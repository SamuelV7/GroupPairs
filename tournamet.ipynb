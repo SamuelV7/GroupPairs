{
 "cells": [
  {
   "cell_type": "code",
   "execution_count": 29,
   "metadata": {},
   "outputs": [],
   "source": [
    "import random\n",
    "import numpy as np"
   ]
  },
  {
   "cell_type": "code",
   "execution_count": 14,
   "metadata": {},
   "outputs": [],
   "source": [
    "men_arr = [\"Rasheed\", \"Yordi\", \"Cailin\", \"Landi\", \"Gaberial\", \"Joshua\", \"Samuel\"]\n",
    "women_arry = [\"Aisha\", \"Kelly\", \"Tina\", \"Sophia\", \"Anita\", \"Estera\", \"Priti\", \"Chantelle\", \"Mirian\", \"Balveet\"]"
   ]
  },
  {
   "cell_type": "code",
   "execution_count": 24,
   "metadata": {},
   "outputs": [],
   "source": [
    "add_if_odd = lambda arr , to_add : arr if len(arr) % 2 == 0 else arr + [to_add]"
   ]
  },
  {
   "cell_type": "code",
   "execution_count": 33,
   "metadata": {},
   "outputs": [],
   "source": [
    "even_arr = add_if_odd(men_arr, \"Church\")"
   ]
  },
  {
   "cell_type": "code",
   "execution_count": null,
   "metadata": {},
   "outputs": [],
   "source": []
  }
 ],
 "metadata": {
  "kernelspec": {
   "display_name": "PrayerPartners-QxxsoBdu",
   "language": "python",
   "name": "python3"
  },
  "language_info": {
   "codemirror_mode": {
    "name": "ipython",
    "version": 3
   },
   "file_extension": ".py",
   "mimetype": "text/x-python",
   "name": "python",
   "nbconvert_exporter": "python",
   "pygments_lexer": "ipython3",
   "version": "3.10.8 (main, Oct 13 2022, 09:48:40) [Clang 14.0.0 (clang-1400.0.29.102)]"
  },
  "orig_nbformat": 4,
  "vscode": {
   "interpreter": {
    "hash": "047e20b1c21b414fd7e60f84129ac56212c168ad99f90b680426714fd2834c25"
   }
  }
 },
 "nbformat": 4,
 "nbformat_minor": 2
}
